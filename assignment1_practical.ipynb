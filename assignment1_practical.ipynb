{
  "nbformat": 4,
  "nbformat_minor": 0,
  "metadata": {
    "colab": {
      "provenance": [],
      "toc_visible": true,
      "gpuType": "T4",
      "mount_file_id": "1lAy_YT2kZxUVJvk7umNcXW3_Ded87R2i",
      "authorship_tag": "ABX9TyM8cPu4qxyWg/NNRyUhSC0n",
      "include_colab_link": true
    },
    "kernelspec": {
      "name": "python3",
      "display_name": "Python 3"
    },
    "language_info": {
      "name": "python"
    },
    "accelerator": "GPU"
  },
  "cells": [
    {
      "cell_type": "markdown",
      "metadata": {
        "id": "view-in-github",
        "colab_type": "text"
      },
      "source": [
        "<a href=\"https://colab.research.google.com/github/mitkrieg/dl-assignment-1/blob/main/assignment1_practical.ipynb\" target=\"_parent\"><img src=\"https://colab.research.google.com/assets/colab-badge.svg\" alt=\"Open In Colab\"/></a>"
      ]
    },
    {
      "cell_type": "markdown",
      "source": [
        "# Assignment 1: DL Basics\n",
        "\n",
        "### Goal\n",
        "Implement [LeNet5](https://arxiv.org/pdf/1502.03167v3) and compare various regularization techniques on the network using the FashionMNSIT dataset."
      ],
      "metadata": {
        "id": "OQ56fD3aY8na"
      }
    },
    {
      "cell_type": "markdown",
      "source": [
        "## Library Imports"
      ],
      "metadata": {
        "id": "m912ceG9Z9X-"
      }
    },
    {
      "cell_type": "code",
      "execution_count": 1,
      "metadata": {
        "colab": {
          "base_uri": "https://localhost:8080/"
        },
        "id": "7roLS_owoJPv",
        "outputId": "7dabe1f6-9c0b-4579-ef14-169f3b5cbec5"
      },
      "outputs": [
        {
          "output_type": "stream",
          "name": "stdout",
          "text": [
            "Drive already mounted at /content/drive; to attempt to forcibly remount, call drive.mount(\"/content/drive\", force_remount=True).\n"
          ]
        },
        {
          "output_type": "execute_result",
          "data": {
            "text/plain": [
              "<torch._C.Generator at 0x7adcde698ed0>"
            ]
          },
          "metadata": {},
          "execution_count": 1
        }
      ],
      "source": [
        "import torch\n",
        "from torch import nn\n",
        "import torch.nn.functional as F\n",
        "import torch.optim as optim\n",
        "from torch.utils.data import Dataset, DataLoader\n",
        "from torchvision.transforms import ToTensor\n",
        "import pandas as pd\n",
        "import numpy as np\n",
        "import matplotlib.pyplot as plt\n",
        "from google.colab import drive\n",
        "import gzip\n",
        "import typing as T\n",
        "\n",
        "drive.mount('/content/drive')\n",
        "torch.manual_seed(123)\n"
      ]
    },
    {
      "cell_type": "markdown",
      "source": [
        "## Check for GPU Access"
      ],
      "metadata": {
        "id": "Vi805ZxpaFyO"
      }
    },
    {
      "cell_type": "code",
      "source": [
        "print(\"------ ACCELERATION INFO -----\")\n",
        "print('GPU Available:',torch.cuda.is_available())\n",
        "if torch.cuda.is_available():\n",
        "  device = torch.device('cuda')\n",
        "  print('GPU Name:',torch.cuda.get_device_name(0))\n",
        "  print('GPU Count:',torch.cuda.device_count())\n",
        "  print('GPU Memory Allocated:',torch.cuda.memory_allocated(0))\n",
        "  print('GPU Memory Cached:',torch.cuda.memory_reserved(0))\n",
        "else:\n",
        "  device = torch.device('cpu')\n",
        "  print('Using CPU')"
      ],
      "metadata": {
        "colab": {
          "base_uri": "https://localhost:8080/"
        },
        "id": "cwJwFQG4R8wy",
        "outputId": "e946526e-48e7-48c9-fddd-f735218e336b"
      },
      "execution_count": 2,
      "outputs": [
        {
          "output_type": "stream",
          "name": "stdout",
          "text": [
            "------ ACCELERATION INFO -----\n",
            "GPU Available: True\n",
            "GPU Name: Tesla T4\n",
            "GPU Count: 1\n",
            "GPU Memory Allocated: 0\n",
            "GPU Memory Cached: 0\n"
          ]
        }
      ]
    },
    {
      "cell_type": "markdown",
      "source": [
        "## Load Data using Pytorch"
      ],
      "metadata": {
        "id": "yWsWErVcSRIv"
      }
    },
    {
      "cell_type": "code",
      "source": [
        "\n",
        "PATH = '/content/drive/MyDrive/Fall 2024/Deep Learning/Assignment 1/data'\n"
      ],
      "metadata": {
        "id": "kGjJiU0lDHzb"
      },
      "execution_count": 3,
      "outputs": []
    },
    {
      "cell_type": "markdown",
      "source": [
        "### Define FashionMNIST"
      ],
      "metadata": {
        "id": "8ji077ZjaQNK"
      }
    },
    {
      "cell_type": "code",
      "source": [
        "class FasionMNISTDataset(Dataset):\n",
        "  def __init__(self, path: str, kind: str, transform=None, target_transform=None, device=None) -> None:\n",
        "    self.transform = transform\n",
        "    self.target_transform = target_transform\n",
        "    self.device = device\n",
        "    self.labels, self.images = self._load_data(path, kind)\n",
        "\n",
        "  def _load_data(self, path: str, kind: str) -> T.Tuple[np.ndarray, np.ndarray]:\n",
        "    with gzip.open(path + f'/{kind}-labels-idx1-ubyte.gz', 'rb') as lable_file:\n",
        "      lbls = np.frombuffer(lable_file.read(), dtype=np.int8, offset=8)\n",
        "      lbls = np.copy(lbls)\n",
        "    with gzip.open(path + f'/{kind}-images-idx3-ubyte.gz', 'rb') as lable_file:\n",
        "      imgs = np.frombuffer(lable_file.read(), dtype=np.uint8, offset=16).reshape(len(lbls), 1, 28, 28)\n",
        "      imgs = (np.copy(imgs) / 255).astype(np.float32)\n",
        "    return lbls, imgs\n",
        "\n",
        "  def __len__(self) -> int:\n",
        "    return self.labels.size\n",
        "\n",
        "  def __getitem__(self, index: int) -> T.Tuple[torch.tensor, torch.tensor]:\n",
        "    label = torch.tensor(self.labels[index], dtype=torch.long)\n",
        "    img = torch.tensor(self.images[index])\n",
        "    if self.device:\n",
        "      img = img.to(self.device)\n",
        "      label = label.to(self.device)\n",
        "    if self.target_transform:\n",
        "      label = self.target_transform(label)\n",
        "    if self.transform:\n",
        "      img = self.transform(img)\n",
        "\n",
        "\n",
        "    return img, label\n",
        "\n",
        "def show_img(dataset: Dataset, index: int) -> None:\n",
        "  img, label = dataset[index]\n",
        "  labels_map = {\n",
        "            0: \"T-Shirt\",\n",
        "            1: \"Trouser\",\n",
        "            2: \"Pullover\",\n",
        "            3: \"Dress\",\n",
        "            4: \"Coat\",\n",
        "            5: \"Sandal\",\n",
        "            6: \"Shirt\",\n",
        "            7: \"Sneaker\",\n",
        "            8: \"Bag\",\n",
        "            9: \"Ankle Boot\",\n",
        "        }\n",
        "  plt.imshow(img.cpu().reshape(28,28), cmap='gray')\n",
        "  plt.title(labels_map[label.cpu().item()])\n",
        "  plt.show()"
      ],
      "metadata": {
        "id": "1gxeQbXyRrqN"
      },
      "execution_count": 4,
      "outputs": []
    },
    {
      "cell_type": "markdown",
      "source": [
        "### Create Train, Validation and Test sets with loaders"
      ],
      "metadata": {
        "id": "hHx4kcRPabF5"
      }
    },
    {
      "cell_type": "code",
      "source": [
        "gen = torch.Generator().manual_seed(123)\n",
        "\n",
        "train = FasionMNISTDataset(PATH, 'train', device=device)\n",
        "train, val = torch.utils.data.random_split(train, [0.8, 0.2], generator=gen)\n",
        "test = FasionMNISTDataset(PATH, 'test', device=device)\n",
        "\n",
        "batch = 128\n",
        "trainloader = DataLoader(train, batch, shuffle=True, generator=gen)\n",
        "valloader = DataLoader(val, batch, shuffle=True, generator=gen)\n",
        "testloader = DataLoader(test, batch, shuffle=True, generator=gen)"
      ],
      "metadata": {
        "id": "JXMp90QEcxwP"
      },
      "execution_count": 5,
      "outputs": []
    },
    {
      "cell_type": "markdown",
      "source": [
        "#### Example Image"
      ],
      "metadata": {
        "id": "mktyFGDEaxyp"
      }
    },
    {
      "cell_type": "code",
      "source": [
        "show_img(train, 0)"
      ],
      "metadata": {
        "colab": {
          "base_uri": "https://localhost:8080/",
          "height": 452
        },
        "id": "SfV38Sn6PC89",
        "outputId": "c4668b5c-9269-42b4-d66d-da25d6b12c51"
      },
      "execution_count": 6,
      "outputs": [
        {
          "output_type": "display_data",
          "data": {
            "text/plain": [
              "<Figure size 640x480 with 1 Axes>"
            ],
            "image/png": "[encoded data removed]"
          },
          "metadata": {}
        }
      ]
    },
    {
      "cell_type": "markdown",
      "source": [
        "## LeNet5"
      ],
      "metadata": {
        "id": "-u_NANyOa31H"
      }
    },
    {
      "cell_type": "code",
      "source": [
        "class Lenet5(nn.Module):\n",
        "  def __init__(self):\n",
        "    super().__init__()\n",
        "    self.conv1 = nn.Conv2d(1, 6, kernel_size=5, stride=1)\n",
        "    self.max_pool1 = nn.MaxPool2d(2, 2)\n",
        "    self.conv2 = nn.Conv2d(6, 16, kernel_size=5, stride=1)\n",
        "    self.max_pool2 = nn.MaxPool2d(2, 2)\n",
        "    self.fc1 = nn.Linear(16*4*4, 120)\n",
        "    self.fc2 = nn.Linear(120, 84)\n",
        "    self.fc3 = nn.Linear(84,10)\n",
        "\n",
        "  def forward(self, x):\n",
        "    x = F.relu(self.conv1(x))\n",
        "    x = self.max_pool1(x)\n",
        "    x = F.relu(self.conv2(x))\n",
        "    x = self.max_pool2(x)\n",
        "    x = torch.flatten(x, 1)\n",
        "    x = F.relu(self.fc1(x))\n",
        "    x = F.relu(self.fc2(x))\n",
        "    x = self.fc3(x)\n",
        "    return x\n",
        "\n",
        "net = Lenet5()\n",
        "net.to(device)\n",
        "\n",
        "cross_entropy = nn.CrossEntropyLoss()\n",
        "sgd = optim.SGD(net.parameters(), lr=1e-2, momentum=0.9)"
      ],
      "metadata": {
        "id": "p0PflE0mV3Q7"
      },
      "execution_count": 7,
      "outputs": []
    },
    {
      "cell_type": "markdown",
      "source": [
        "### Define Training Loop & train LeNet5"
      ],
      "metadata": {
        "id": "UI94H3E8a_Ph"
      }
    },
    {
      "cell_type": "code",
      "source": [
        "def train_network(network, dataloader, loss_fn, optimizer, device, epochs: int, verbosity: int):\n",
        "  network.train()\n",
        "  for epoch in range(epochs):\n",
        "    total_loss = 0\n",
        "    for i, data in enumerate(dataloader):\n",
        "      inputs, labels = data\n",
        "\n",
        "      optimizer.zero_grad()\n",
        "      outputs = network(inputs)\n",
        "      loss = loss_fn(outputs, labels)\n",
        "      loss.backward()\n",
        "      optimizer.step()\n",
        "\n",
        "      total_loss += loss.item()\n",
        "      if i % verbosity == verbosity - 1:\n",
        "        print(f'Epoch #{epoch + 1}, Batch #{i + 1}: {total_loss / verbosity}')\n",
        "        total_loss = 0\n",
        "  print(f'Done!')\n",
        "\n",
        "def eval_network(network, dataloader):\n",
        "  network.eval()\n",
        "  correct = 0\n",
        "  total = 0\n",
        "\n",
        "  with torch.no_grad():\n",
        "      for data in dataloader:\n",
        "          images, labels = data\n",
        "          outputs = network(images)\n",
        "          _, predicted = torch.max(outputs.data, 1)\n",
        "          total += labels.size(0)\n",
        "          correct += (predicted == labels).sum().item()\n",
        "\n",
        "  print(f'accuracy of the network: {correct}/{total} = {100 * correct / total : .4} %')\n",
        "\n",
        "train_network(net, trainloader, cross_entropy, sgd, device, 5, 100)\n",
        "print('Train ', end='')\n",
        "eval_network(net, trainloader)\n",
        "print('Val ', end='')\n",
        "eval_network(net, valloader)\n",
        ""
      ],
      "metadata": {
        "colab": {
          "base_uri": "https://localhost:8080/"
        },
        "id": "hp6BRgVybpiY",
        "outputId": "f17fe637-279b-42f9-87e6-c3164b311240"
      },
      "execution_count": 8,
      "outputs": [
        {
          "output_type": "stream",
          "name": "stdout",
          "text": [
            "Epoch #1, Batch #100: 2.147723857164383\n",
            "Epoch #1, Batch #200: 1.0312595248222352\n",
            "Epoch #1, Batch #300: 0.757422770857811\n",
            "Epoch #2, Batch #100: 0.6336204895377159\n",
            "Epoch #2, Batch #200: 0.6282146254181862\n",
            "Epoch #2, Batch #300: 0.5866017612814903\n",
            "Epoch #3, Batch #100: 0.5305797564983368\n",
            "Epoch #3, Batch #200: 0.5131673616170883\n",
            "Epoch #3, Batch #300: 0.48150057703256605\n",
            "Epoch #4, Batch #100: 0.4697807604074478\n",
            "Epoch #4, Batch #200: 0.459765690267086\n",
            "Epoch #4, Batch #300: 0.447136107981205\n",
            "Epoch #5, Batch #100: 0.4171407675743103\n",
            "Epoch #5, Batch #200: 0.4270957589149475\n",
            "Epoch #5, Batch #300: 0.39771492063999175\n",
            "Done!\n",
            "Train accuracy of the network: 41464/48000 =  86.38 %\n",
            "Val accuracy of the network: 10283/12000 =  85.69 %\n"
          ]
        }
      ]
    },
    {
      "cell_type": "markdown",
      "source": [
        "### Variations on LeNet5"
      ],
      "metadata": {
        "id": "p4pr-yptbLJT"
      }
    },
    {
      "cell_type": "markdown",
      "source": [
        "#### Using Batch Normalization"
      ],
      "metadata": {
        "id": "QG5Q03J9bZV_"
      }
    },
    {
      "cell_type": "code",
      "source": [
        "class Lenet5BN(Lenet5):\n",
        "    def __init__(self):\n",
        "        super().__init__()\n",
        "        self.BN1 = nn.BatchNorm2d(6)\n",
        "        self.BN2 = nn.BatchNorm2d(16)\n",
        "\n",
        "    def forward(self, x):\n",
        "        x = self.conv1(x)\n",
        "        x = F.relu(self.BN1(x))\n",
        "        x = self.max_pool1(x)\n",
        "        x = self.conv2(x)\n",
        "        x = F.relu(self.BN2(x))\n",
        "        x = self.max_pool2(x)\n",
        "        x = torch.flatten(x, 1)\n",
        "        x = F.relu(self.fc1(x))\n",
        "        x = F.relu(self.fc2(x))\n",
        "        x = self.fc3(x)\n",
        "        return x\n",
        "\n",
        "\n",
        "net_bn = Lenet5BN()\n",
        "net_bn.to(device)\n",
        "\n",
        "cross_entropy = nn.CrossEntropyLoss()\n",
        "sgd = optim.SGD(net_bn.parameters(), lr=1e-2, momentum=0.9)\n",
        "\n",
        "train_network(net_bn, trainloader, cross_entropy, sgd, device, 5, 100)\n",
        "print('Train ', end=' ')\n",
        "eval_network(net_bn, trainloader)\n",
        "print('Val ', end=' ')\n",
        "eval_network(net_bn, valloader)"
      ],
      "metadata": {
        "colab": {
          "base_uri": "https://localhost:8080/"
        },
        "id": "Z3rtOUZCKYWG",
        "outputId": "7c9a6d93-de7b-49f5-d066-3cf10cb8dbc8"
      },
      "execution_count": 9,
      "outputs": [
        {
          "output_type": "stream",
          "name": "stdout",
          "text": [
            "Epoch #1, Batch #100: 1.3038220250606536\n",
            "Epoch #1, Batch #200: 0.5854292070865631\n",
            "Epoch #1, Batch #300: 0.4888907760381699\n",
            "Epoch #2, Batch #100: 0.41881497979164123\n",
            "Epoch #2, Batch #200: 0.39451957181096076\n",
            "Epoch #2, Batch #300: 0.37539498567581175\n",
            "Epoch #3, Batch #100: 0.3488756538927555\n",
            "Epoch #3, Batch #200: 0.34425355166196825\n",
            "Epoch #3, Batch #300: 0.3280733498930931\n",
            "Epoch #4, Batch #100: 0.30522005036473276\n",
            "Epoch #4, Batch #200: 0.32480629935860633\n",
            "Epoch #4, Batch #300: 0.31091489538550376\n",
            "Epoch #5, Batch #100: 0.29286137610673907\n",
            "Epoch #5, Batch #200: 0.29689492136240003\n",
            "Epoch #5, Batch #300: 0.2846573986113071\n",
            "Done!\n",
            "Train  accuracy of the network: 43371/48000 =  90.36 %\n",
            "Val  accuracy of the network: 10682/12000 =  89.02 %\n"
          ]
        }
      ]
    },
    {
      "cell_type": "markdown",
      "source": [
        "#### Using Dropout"
      ],
      "metadata": {
        "id": "krfDLKqLbbyu"
      }
    },
    {
      "cell_type": "code",
      "source": [
        "class Lenet5Dropout(Lenet5):\n",
        "    def __init__(self):\n",
        "        super().__init__()\n",
        "        self.dropout = nn.Dropout(0.2)\n",
        "\n",
        "    def forward(self, x):\n",
        "        x = F.relu(self.conv1(x))\n",
        "        x = self.max_pool1(x)\n",
        "        x = F.relu(self.conv2(x))\n",
        "        x = self.max_pool1(x)\n",
        "        x = torch.flatten(x, 1)\n",
        "        x = F.relu(self.fc1(x))\n",
        "        x = self.dropout(x)\n",
        "        x = F.relu(self.fc2(x))\n",
        "        x = self.dropout(x)\n",
        "        x = self.fc3(x)\n",
        "        return x"
      ],
      "metadata": {
        "id": "vN9DTB7ILfqk"
      },
      "execution_count": 18,
      "outputs": []
    },
    {
      "cell_type": "code",
      "source": [
        "net_drop = Lenet5Dropout()\n",
        "net_drop.to(device)\n",
        "\n",
        "cross_entropy = nn.CrossEntropyLoss()\n",
        "sgd = optim.SGD(net_drop.parameters(), lr=1e-2, momentum=0.9)\n",
        "\n",
        "train_network(net_drop, trainloader, cross_entropy, sgd, device, 5, 100)\n",
        "print('Train ', end=' ')\n",
        "eval_network(net_drop, trainloader)\n",
        "print('Val ', end=' ')\n",
        "eval_network(net_drop, valloader)"
      ],
      "metadata": {
        "colab": {
          "base_uri": "https://localhost:8080/"
        },
        "id": "nY_PPZpWMO4_",
        "outputId": "3336e1df-28fb-4ca0-9352-0020cb2df7aa"
      },
      "execution_count": 19,
      "outputs": [
        {
          "output_type": "stream",
          "name": "stdout",
          "text": [
            "Epoch #1, Batch #100: 2.285408205986023\n",
            "Epoch #1, Batch #200: 1.3474079966545105\n",
            "Epoch #1, Batch #300: 0.8963542956113816\n",
            "Epoch #2, Batch #100: 0.7270633232593536\n",
            "Epoch #2, Batch #200: 0.687298160791397\n",
            "Epoch #2, Batch #300: 0.6297478818893433\n",
            "Epoch #3, Batch #100: 0.5754259520769119\n",
            "Epoch #3, Batch #200: 0.5448769626021385\n",
            "Epoch #3, Batch #300: 0.5297683164477348\n",
            "Epoch #4, Batch #100: 0.5074970871210098\n",
            "Epoch #4, Batch #200: 0.4983175364136696\n",
            "Epoch #4, Batch #300: 0.4934162378311157\n",
            "Epoch #5, Batch #100: 0.45510961502790453\n",
            "Epoch #5, Batch #200: 0.44631817311048505\n",
            "Epoch #5, Batch #300: 0.45325106382369995\n",
            "Done!\n",
            "Train  accuracy of the network: 40400/48000 =  84.17 %\n",
            "Val  accuracy of the network: 10062/12000 =  83.85 %\n"
          ]
        }
      ]
    },
    {
      "cell_type": "markdown",
      "source": [
        "#### Using Weight Decay"
      ],
      "metadata": {
        "id": "LiiV2yXT4CFj"
      }
    },
    {
      "cell_type": "code",
      "source": [],
      "metadata": {
        "id": "aHirXkQmNu2V"
      },
      "execution_count": 11,
      "outputs": []
    }
  ]
}